{
  "nbformat": 4,
  "nbformat_minor": 0,
  "metadata": {
    "colab": {
      "name": "2 : 심층 신경망",
      "provenance": []
    },
    "kernelspec": {
      "name": "python3",
      "display_name": "Python 3"
    },
    "language_info": {
      "name": "python"
    }
  },
  "cells": [
    {
      "cell_type": "code",
      "metadata": {
        "colab": {
          "base_uri": "https://localhost:8080/"
        },
        "id": "TwqosW0mhYmf",
        "outputId": "31f45a41-ca06-4619-ba1e-ea4237e04ebd"
      },
      "source": [
        "from tensorflow import keras\n",
        "(train_input, train_target), (test_input, test_target) =\\\n",
        "keras.datasets.mnist.load_data()"
      ],
      "execution_count": 2,
      "outputs": [
        {
          "output_type": "stream",
          "text": [
            "Downloading data from https://storage.googleapis.com/tensorflow/tf-keras-datasets/mnist.npz\n",
            "11493376/11490434 [==============================] - 0s 0us/step\n",
            "11501568/11490434 [==============================] - 0s 0us/step\n"
          ],
          "name": "stdout"
        }
      ]
    },
    {
      "cell_type": "code",
      "metadata": {
        "id": "qB7ow1rVhpoM"
      },
      "source": [
        "from sklearn.model_selection import train_test_split\n",
        "train_scaled = train_input / 255.0 #이미지 픽셀 값 0~1 사이로 변환\n",
        "train_scaled = train_scaled.reshape(-1, 28*28) #28*28 크기의 2차원 배열을 784크기의 1차원 배열로 펼침\n",
        "train_scaled, val_scaled, train_target, val_target = train_test_split(\n",
        "    train_scaled, train_target, test_size=0.2, random_state = 42)"
      ],
      "execution_count": 3,
      "outputs": []
    },
    {
      "cell_type": "markdown",
      "metadata": {
        "id": "0w9B0es4iPXu"
      },
      "source": [
        "인공신경망 모델에 층 2개 추가\n",
        "* 은닉층의 뉴런 개수를 정하는 데는 특별한 기준이 없으며, 몇 개의 뉴런을 두어야 할지 판단하기 위해서는 상당한 경험이 필요하다 -> 은닉층의 뉴런 개수 바꿔가며 정확도 테스트 해보기!"
      ]
    },
    {
      "cell_type": "code",
      "metadata": {
        "id": "K-I4m5ASiPDs"
      },
      "source": [
        "dense1 = keras.layers.Dense(700, activation = 'sigmoid', input_shape=(784,))  #은닉층\n",
        "dense2 = keras.layers.Dense(10, activation='softmax')"
      ],
      "execution_count": 22,
      "outputs": []
    },
    {
      "cell_type": "markdown",
      "metadata": {
        "id": "HCXG2HTbjIBW"
      },
      "source": [
        "심층 신경망 만들기"
      ]
    },
    {
      "cell_type": "code",
      "metadata": {
        "colab": {
          "base_uri": "https://localhost:8080/"
        },
        "id": "_BNUwcuOjHve",
        "outputId": "7f549e80-c2dc-4dd3-9544-2925059c13e9"
      },
      "source": [
        "model = keras.Sequential([dense1, dense2])\n",
        "model.summary()"
      ],
      "execution_count": 23,
      "outputs": [
        {
          "output_type": "stream",
          "text": [
            "Model: \"sequential_6\"\n",
            "_________________________________________________________________\n",
            "Layer (type)                 Output Shape              Param #   \n",
            "=================================================================\n",
            "dense_12 (Dense)             (None, 700)               549500    \n",
            "_________________________________________________________________\n",
            "dense_13 (Dense)             (None, 10)                7010      \n",
            "=================================================================\n",
            "Total params: 556,510\n",
            "Trainable params: 556,510\n",
            "Non-trainable params: 0\n",
            "_________________________________________________________________\n"
          ],
          "name": "stdout"
        }
      ]
    },
    {
      "cell_type": "markdown",
      "metadata": {
        "id": "B0iP8Hdy7ONs"
      },
      "source": [
        "은닉층의 뉴런 개수를 증가시키면, 총 파라미터 수도 함께 증가함"
      ]
    },
    {
      "cell_type": "markdown",
      "metadata": {
        "id": "etJiVERrmTzy"
      },
      "source": [
        "모델 훈련"
      ]
    },
    {
      "cell_type": "code",
      "metadata": {
        "colab": {
          "base_uri": "https://localhost:8080/"
        },
        "id": "lMvkK-q4mU7c",
        "outputId": "74777d87-bc1a-427f-f1ba-9a98bc95d835"
      },
      "source": [
        "model.compile(loss='sparse_categorical_crossentropy', metrics='accuracy')\n",
        "model.fit(train_scaled, train_target, epochs=5)"
      ],
      "execution_count": 24,
      "outputs": [
        {
          "output_type": "stream",
          "text": [
            "Epoch 1/5\n",
            "1500/1500 [==============================] - 14s 9ms/step - loss: 0.3545 - accuracy: 0.8966\n",
            "Epoch 2/5\n",
            "1500/1500 [==============================] - 14s 9ms/step - loss: 0.1908 - accuracy: 0.9446\n",
            "Epoch 3/5\n",
            "1500/1500 [==============================] - 13s 9ms/step - loss: 0.1319 - accuracy: 0.9610\n",
            "Epoch 4/5\n",
            "1500/1500 [==============================] - 14s 10ms/step - loss: 0.1000 - accuracy: 0.9708\n",
            "Epoch 5/5\n",
            "1500/1500 [==============================] - 14s 10ms/step - loss: 0.0800 - accuracy: 0.9768\n"
          ],
          "name": "stdout"
        },
        {
          "output_type": "execute_result",
          "data": {
            "text/plain": [
              "<keras.callbacks.History at 0x7faa23425f90>"
            ]
          },
          "metadata": {},
          "execution_count": 24
        }
      ]
    },
    {
      "cell_type": "markdown",
      "metadata": {
        "id": "xNN6TQD-mwyN"
      },
      "source": [
        "은닉층 추가 결과, 이전에 비해 정확도가 상승하였음 (0.92 -> 0.9639)"
      ]
    },
    {
      "cell_type": "markdown",
      "metadata": {
        "id": "y1qV0CAV43Xj"
      },
      "source": [
        "**은닉층 개수 조절**\n",
        "\n",
        "* 50개 : 0.9512\n",
        "*   100개 : 0.9639\n",
        "*   200개 : 0.9706\n",
        "* 300개 : 0.9714\n",
        "* 400개 : 0.9744\n",
        "* 500개 : 0.9751   (굉장히 오래 걸리기 시작함)\n",
        "* 600개 : 0.9757\n",
        "* 700개 : 0.9768\n"
      ]
    },
    {
      "cell_type": "markdown",
      "metadata": {
        "id": "SmahbzSN7iic"
      },
      "source": [
        "은닉층 개수 결정 : 400개"
      ]
    }
  ]
}